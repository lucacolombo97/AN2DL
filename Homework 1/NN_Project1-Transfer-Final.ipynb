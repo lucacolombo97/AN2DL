{
 "cells": [
  {
   "cell_type": "markdown",
   "metadata": {},
   "source": [
    "In this notebook we load our best models.\n",
    "The checkpoints and best results can be found at https://drive.google.com/drive/folders/1-1_UPvtHjzOAblCphf6iLebpFqaEi_hl."
   ]
  },
  {
   "cell_type": "code",
   "execution_count": null,
   "metadata": {
    "colab": {
     "base_uri": "https://localhost:8080/",
     "height": 1000,
     "resources": {
      "http://localhost:8080/nbextensions/google.colab/files.js": {
       "data": "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",
       "headers": [
        [
         "content-type",
         "application/javascript"
        ]
       ],
       "ok": true,
       "status": 200,
       "status_text": "OK"
      }
     }
    },
    "executionInfo": {
     "elapsed": 21463,
     "status": "ok",
     "timestamp": 1606058495684,
     "user": {
      "displayName": "lucacolombo97",
      "photoUrl": "https://lh3.googleusercontent.com/a-/AOh14Giuvo0vTrhmbXIyb80LZ7oqS82QoAhiyiRwZQKi=s64",
      "userId": "05787806710317186015"
     },
     "user_tz": -60
    },
    "id": "nfbMZIudpS8K",
    "outputId": "58491f37-9088-47f5-d1dd-6a2aa2205e1d"
   },
   "outputs": [],
   "source": [
    "# This cell is for Colab\n",
    "!pip install --upgrade --force-reinstall --no-deps kaggle\n",
    "!mkdir an2dl_1\n",
    "%cd an2dl_1\n",
    "from google.colab import files\n",
    "files.upload()\n",
    "!mkdir -p ~/.kaggle\n",
    "!cp kaggle.json ~/.kaggle/\n",
    "!chmod 600 ~/.kaggle/kaggle.json\n",
    "!kaggle competitions download -c artificial-neural-networks-and-deep-learning-2020\n",
    "!unzip artificial-neural-networks-and-deep-learning-2020.zip"
   ]
  },
  {
   "cell_type": "code",
   "execution_count": 2,
   "metadata": {
    "colab": {
     "base_uri": "https://localhost:8080/"
    },
    "executionInfo": {
     "elapsed": 26234,
     "status": "ok",
     "timestamp": 1606058523709,
     "user": {
      "displayName": "lucacolombo97",
      "photoUrl": "https://lh3.googleusercontent.com/a-/AOh14Giuvo0vTrhmbXIyb80LZ7oqS82QoAhiyiRwZQKi=s64",
      "userId": "05787806710317186015"
     },
     "user_tz": -60
    },
    "id": "u4CmL2fnpcjf",
    "outputId": "fd763031-7685-467d-92e8-e28db373ecc7"
   },
   "outputs": [
    {
     "name": "stdout",
     "output_type": "stream",
     "text": [
      "Mounted at /content/drive\n"
     ]
    }
   ],
   "source": [
    "# This cell is for Colab\n",
    "from google.colab import drive\n",
    "drive.mount('/content/drive', force_remount=True)"
   ]
  },
  {
   "cell_type": "code",
   "execution_count": 1,
   "metadata": {
    "executionInfo": {
     "elapsed": 482,
     "status": "ok",
     "timestamp": 1606058526240,
     "user": {
      "displayName": "lucacolombo97",
      "photoUrl": "https://lh3.googleusercontent.com/a-/AOh14Giuvo0vTrhmbXIyb80LZ7oqS82QoAhiyiRwZQKi=s64",
      "userId": "05787806710317186015"
     },
     "user_tz": -60
    },
    "id": "7AU5-1uRqJ7X"
   },
   "outputs": [],
   "source": [
    "from IPython.core.interactiveshell import InteractiveShell\n",
    "InteractiveShell.ast_node_interactivity = \"all\""
   ]
  },
  {
   "cell_type": "code",
   "execution_count": 2,
   "metadata": {
    "executionInfo": {
     "elapsed": 2068,
     "status": "ok",
     "timestamp": 1606058530378,
     "user": {
      "displayName": "lucacolombo97",
      "photoUrl": "https://lh3.googleusercontent.com/a-/AOh14Giuvo0vTrhmbXIyb80LZ7oqS82QoAhiyiRwZQKi=s64",
      "userId": "05787806710317186015"
     },
     "user_tz": -60
    },
    "id": "R2Q5n-WEqMa8"
   },
   "outputs": [],
   "source": [
    "import os\n",
    "import tensorflow as tf\n",
    "import numpy as np\n",
    "import pandas as pd\n",
    "import json\n",
    "\n",
    "SEED = 1234\n",
    "tf.random.set_seed(SEED)  \n",
    "\n",
    "# Get current working directory\n",
    "cwd = os.getcwd()"
   ]
  },
  {
   "cell_type": "code",
   "execution_count": 3,
   "metadata": {
    "executionInfo": {
     "elapsed": 505,
     "status": "ok",
     "timestamp": 1606058534606,
     "user": {
      "displayName": "lucacolombo97",
      "photoUrl": "https://lh3.googleusercontent.com/a-/AOh14Giuvo0vTrhmbXIyb80LZ7oqS82QoAhiyiRwZQKi=s64",
      "userId": "05787806710317186015"
     },
     "user_tz": -60
    },
    "id": "qnDvSsjvqN8v"
   },
   "outputs": [],
   "source": [
    "from tensorflow.keras.preprocessing.image import ImageDataGenerator\n",
    "from tensorflow.keras.applications.vgg16 import preprocess_input \n",
    "\n",
    "apply_data_augmentation = True\n",
    "\n",
    "# Create training ImageDataGenerator object\n",
    "if apply_data_augmentation:\n",
    "    train_data_gen = ImageDataGenerator(rotation_range=15,\n",
    "                                        width_shift_range=10,\n",
    "                                        height_shift_range=10,\n",
    "                                        zoom_range=0.3,\n",
    "                                        horizontal_flip=True,\n",
    "                                        vertical_flip=True,\n",
    "                                        fill_mode='constant',\n",
    "                                        cval=0,\n",
    "                                        validation_split=0.2,\n",
    "                                        preprocessing_function=preprocess_input)\n",
    "else:\n",
    "    train_data_gen = ImageDataGenerator(rescale=1./255)\n",
    "\n",
    "# Create validation and test ImageDataGenerator objects\n",
    "valid_data_gen = ImageDataGenerator(validation_split=0.2, preprocessing_function=preprocess_input)\n",
    "test_data_gen = ImageDataGenerator(preprocessing_function=preprocess_input)"
   ]
  },
  {
   "cell_type": "code",
   "execution_count": 4,
   "metadata": {
    "colab": {
     "base_uri": "https://localhost:8080/"
    },
    "executionInfo": {
     "elapsed": 1149,
     "status": "ok",
     "timestamp": 1606059257864,
     "user": {
      "displayName": "lucacolombo97",
      "photoUrl": "https://lh3.googleusercontent.com/a-/AOh14Giuvo0vTrhmbXIyb80LZ7oqS82QoAhiyiRwZQKi=s64",
      "userId": "05787806710317186015"
     },
     "user_tz": -60
    },
    "id": "zUSmjxmhqeri",
    "outputId": "8a2c1fbf-8391-42bb-9bd2-f4e6d9ad414f"
   },
   "outputs": [
    {
     "name": "stdout",
     "output_type": "stream",
     "text": [
      "Found 4492 validated image filenames belonging to 3 classes.\n",
      "Found 1122 validated image filenames belonging to 3 classes.\n"
     ]
    }
   ],
   "source": [
    "# Create generators to read images from dataset directory\n",
    "# -------------------------------------------------------\n",
    "dataset_dir = './MaskDataset'\n",
    "\n",
    "# Batch size\n",
    "bs = 16\n",
    "\n",
    "# img shape\n",
    "img_h = 256\n",
    "img_w = 256\n",
    "num_classes=3\n",
    "\n",
    "with open(os.path.join(dataset_dir,\"train_gt.json\")) as f:\n",
    "  dic = json.load(f)\n",
    "dataframe = pd.DataFrame(dic.items())\n",
    "dataframe.rename(columns = {0:'filename', 1:'class'}, inplace = True)\n",
    "dataframe[\"class\"] = dataframe[\"class\"].astype(str)\n",
    "dataframe = dataframe.sample(frac=1).reset_index(drop=True)\n",
    "\n",
    "# Training\n",
    "training_dir = os.path.join(dataset_dir, 'training')\n",
    "train_gen = train_data_gen.flow_from_dataframe(dataframe,\n",
    "                                               training_dir,\n",
    "                                               batch_size=bs,\n",
    "                                               target_size=(img_h, img_w),\n",
    "                                               class_mode='categorical',\n",
    "                                               shuffle=True,\n",
    "                                               seed=SEED,\n",
    "                                               subset='training')  # targets are directly converted into one-hot vectors\n",
    "\n",
    "\n",
    "# Validation\n",
    "validation_dir = os.path.join(dataset_dir, 'validation')\n",
    "valid_gen = valid_data_gen.flow_from_dataframe(dataframe,\n",
    "                                               training_dir,\n",
    "                                               batch_size=bs, \n",
    "                                               target_size=(img_h, img_w),\n",
    "                                               class_mode='categorical',\n",
    "                                               shuffle=False,\n",
    "                                               seed=SEED,\n",
    "                                               subset='validation')"
   ]
  },
  {
   "cell_type": "code",
   "execution_count": 5,
   "metadata": {
    "executionInfo": {
     "elapsed": 1681,
     "status": "ok",
     "timestamp": 1606059261005,
     "user": {
      "displayName": "lucacolombo97",
      "photoUrl": "https://lh3.googleusercontent.com/a-/AOh14Giuvo0vTrhmbXIyb80LZ7oqS82QoAhiyiRwZQKi=s64",
      "userId": "05787806710317186015"
     },
     "user_tz": -60
    },
    "id": "Pc3JiqPlqtZY"
   },
   "outputs": [],
   "source": [
    "# Create Dataset objects\n",
    "# ----------------------\n",
    "\n",
    "# Training\n",
    "train_dataset = tf.data.Dataset.from_generator(lambda: train_gen,\n",
    "                                               output_types=(tf.float32, tf.float32),\n",
    "                                               output_shapes=([None, img_h, img_w, 3], [None, num_classes]))\n",
    "\n",
    "# Shuffle (Already done in generator..)\n",
    "# train_dataset = train_dataset.shuffle(buffer_size=len(train_gen))\n",
    "\n",
    "# Normalize images (Already done in generator..)\n",
    "# def normalize_img(x_, y_):\n",
    "#     return tf.cast(x_, tf.float32) / 255., y_\n",
    "\n",
    "# train_dataset = train_dataset.map(normalize_img)\n",
    "\n",
    "# 1-hot encoding <- for categorical cross entropy (Already done in generator..)\n",
    "# def to_categorical(x_, y_):\n",
    "#     return x_, tf.one_hot(y_, depth=10)\n",
    "\n",
    "# train_dataset = train_dataset.map(to_categorical)\n",
    "\n",
    "# Divide in batches (Already done in generator..)\n",
    "# train_dataset = train_dataset.batch(bs)\n",
    "\n",
    "# Repeat\n",
    "# Without calling the repeat function the dataset \n",
    "# will be empty after consuming all the images\n",
    "train_dataset = train_dataset.repeat()\n",
    "\n",
    "# Validation\n",
    "# ----------\n",
    "valid_dataset = tf.data.Dataset.from_generator(lambda: valid_gen, \n",
    "                                               output_types=(tf.float32, tf.float32),\n",
    "                                               output_shapes=([None, img_h, img_w, 3], [None, num_classes]))\n",
    "\n",
    "# Repeat\n",
    "valid_dataset = valid_dataset.repeat()"
   ]
  },
  {
   "cell_type": "markdown",
   "metadata": {},
   "source": [
    "Now the best models will be created and loaded"
   ]
  },
  {
   "cell_type": "code",
   "execution_count": 6,
   "metadata": {
    "executionInfo": {
     "elapsed": 16312,
     "status": "ok",
     "timestamp": 1606059279372,
     "user": {
      "displayName": "lucacolombo97",
      "photoUrl": "https://lh3.googleusercontent.com/a-/AOh14Giuvo0vTrhmbXIyb80LZ7oqS82QoAhiyiRwZQKi=s64",
      "userId": "05787806710317186015"
     },
     "user_tz": -60
    },
    "id": "6JA1bTwLG8n3"
   },
   "outputs": [],
   "source": [
    "en = tf.keras.applications.EfficientNetB7(weights='imagenet', include_top=False, input_shape=(img_h, img_w, 3))"
   ]
  },
  {
   "cell_type": "code",
   "execution_count": 7,
   "metadata": {
    "executionInfo": {
     "elapsed": 5823,
     "status": "ok",
     "timestamp": 1606059290187,
     "user": {
      "displayName": "lucacolombo97",
      "photoUrl": "https://lh3.googleusercontent.com/a-/AOh14Giuvo0vTrhmbXIyb80LZ7oqS82QoAhiyiRwZQKi=s64",
      "userId": "05787806710317186015"
     },
     "user_tz": -60
    },
    "id": "jXh7XG3BHcO1"
   },
   "outputs": [],
   "source": [
    "model1 = tf.keras.Sequential()\n",
    "model1.add(en)\n",
    "model1.add(tf.keras.layers.Flatten())\n",
    "model1.add(tf.keras.layers.Dense(units=512, activation='relu'))\n",
    "model1.add(tf.keras.layers.Dense(units=256, activation='relu'))\n",
    "model1.add(tf.keras.layers.Dense(units=num_classes, activation='softmax'))\n",
    "# Optimization params\n",
    "# -------------------\n",
    "\n",
    "# Loss\n",
    "loss = tf.keras.losses.CategoricalCrossentropy()\n",
    "\n",
    "# learning rate\n",
    "lr = 1e-4\n",
    "optimizer = tf.keras.optimizers.Adam(learning_rate=lr)\n",
    "# -------------------\n",
    "\n",
    "# Validation metrics\n",
    "# ------------------\n",
    "\n",
    "metrics = ['accuracy']\n",
    "# ------------------\n",
    "model1.compile(optimizer=optimizer, loss=loss, metrics=metrics)"
   ]
  },
  {
   "cell_type": "code",
   "execution_count": 8,
   "metadata": {
    "executionInfo": {
     "elapsed": 13964,
     "status": "ok",
     "timestamp": 1606059306790,
     "user": {
      "displayName": "lucacolombo97",
      "photoUrl": "https://lh3.googleusercontent.com/a-/AOh14Giuvo0vTrhmbXIyb80LZ7oqS82QoAhiyiRwZQKi=s64",
      "userId": "05787806710317186015"
     },
     "user_tz": -60
    },
    "id": "39wX2YBPRJA1"
   },
   "outputs": [],
   "source": [
    "inc = tf.keras.applications.InceptionResNetV2(weights='imagenet',include_top=False,input_shape=(img_h,img_w,3))"
   ]
  },
  {
   "cell_type": "code",
   "execution_count": 9,
   "metadata": {
    "executionInfo": {
     "elapsed": 4572,
     "status": "ok",
     "timestamp": 1606059313624,
     "user": {
      "displayName": "lucacolombo97",
      "photoUrl": "https://lh3.googleusercontent.com/a-/AOh14Giuvo0vTrhmbXIyb80LZ7oqS82QoAhiyiRwZQKi=s64",
      "userId": "05787806710317186015"
     },
     "user_tz": -60
    },
    "id": "Cg032HQWRQDo"
   },
   "outputs": [],
   "source": [
    "model2 = tf.keras.Sequential()\n",
    "model2.add(inc)\n",
    "model2.add(tf.keras.layers.GlobalMaxPooling2D())\n",
    "model2.add(tf.keras.layers.Dense(units=512, activation='relu'))\n",
    "model2.add(tf.keras.layers.Dense(units=num_classes, activation='softmax'))\n",
    "# Optimization params\n",
    "# -------------------\n",
    "\n",
    "# Loss\n",
    "loss = tf.keras.losses.CategoricalCrossentropy()\n",
    "\n",
    "# learning rate\n",
    "lr = 1e-4\n",
    "optimizer = tf.keras.optimizers.Adam(learning_rate=lr)\n",
    "# -------------------\n",
    "\n",
    "# Validation metrics\n",
    "# ------------------\n",
    "\n",
    "metrics = ['accuracy']\n",
    "# ------------------\n",
    "model2.compile(optimizer=optimizer, loss=loss, metrics=metrics)"
   ]
  },
  {
   "cell_type": "code",
   "execution_count": 10,
   "metadata": {
    "executionInfo": {
     "elapsed": 5141,
     "status": "ok",
     "timestamp": 1606059322375,
     "user": {
      "displayName": "lucacolombo97",
      "photoUrl": "https://lh3.googleusercontent.com/a-/AOh14Giuvo0vTrhmbXIyb80LZ7oqS82QoAhiyiRwZQKi=s64",
      "userId": "05787806710317186015"
     },
     "user_tz": -60
    },
    "id": "gI9bc5Db8iG8"
   },
   "outputs": [],
   "source": [
    "xce = tf.keras.applications.Xception(weights='imagenet',include_top=False,input_shape=(img_h,img_w,3))"
   ]
  },
  {
   "cell_type": "code",
   "execution_count": 11,
   "metadata": {
    "executionInfo": {
     "elapsed": 2485,
     "status": "ok",
     "timestamp": 1606059327175,
     "user": {
      "displayName": "lucacolombo97",
      "photoUrl": "https://lh3.googleusercontent.com/a-/AOh14Giuvo0vTrhmbXIyb80LZ7oqS82QoAhiyiRwZQKi=s64",
      "userId": "05787806710317186015"
     },
     "user_tz": -60
    },
    "id": "gU39SdIV8sbY"
   },
   "outputs": [],
   "source": [
    "model3 = tf.keras.Sequential()\n",
    "model3.add(xce)\n",
    "model3.add(tf.keras.layers.Flatten())\n",
    "model3.add(tf.keras.layers.Dense(units=512, activation='relu'))\n",
    "model3.add(tf.keras.layers.Dense(units=256, activation='relu'))\n",
    "model3.add(tf.keras.layers.Dense(units=num_classes, activation='softmax'))\n",
    "# Optimization params\n",
    "# -------------------\n",
    "\n",
    "# Loss\n",
    "loss = tf.keras.losses.CategoricalCrossentropy()\n",
    "\n",
    "# learning rate\n",
    "lr = 1e-4\n",
    "optimizer = tf.keras.optimizers.Adam(learning_rate=lr)\n",
    "# -------------------\n",
    "\n",
    "# Validation metrics\n",
    "# ------------------\n",
    "\n",
    "metrics = ['accuracy']\n",
    "# ------------------\n",
    "model3.compile(optimizer=optimizer, loss=loss, metrics=metrics)"
   ]
  },
  {
   "cell_type": "code",
   "execution_count": 12,
   "metadata": {
    "executionInfo": {
     "elapsed": 12103,
     "status": "ok",
     "timestamp": 1606059341635,
     "user": {
      "displayName": "lucacolombo97",
      "photoUrl": "https://lh3.googleusercontent.com/a-/AOh14Giuvo0vTrhmbXIyb80LZ7oqS82QoAhiyiRwZQKi=s64",
      "userId": "05787806710317186015"
     },
     "user_tz": -60
    },
    "id": "r8-DJ2qHF0Lq"
   },
   "outputs": [],
   "source": [
    "enb6 = tf.keras.applications.EfficientNetB6(weights='imagenet',include_top=False,input_shape=(img_h,img_w,3))"
   ]
  },
  {
   "cell_type": "code",
   "execution_count": 13,
   "metadata": {
    "executionInfo": {
     "elapsed": 5439,
     "status": "ok",
     "timestamp": 1606059349800,
     "user": {
      "displayName": "lucacolombo97",
      "photoUrl": "https://lh3.googleusercontent.com/a-/AOh14Giuvo0vTrhmbXIyb80LZ7oqS82QoAhiyiRwZQKi=s64",
      "userId": "05787806710317186015"
     },
     "user_tz": -60
    },
    "id": "mUnWMesVF0Gs"
   },
   "outputs": [],
   "source": [
    "model4 = tf.keras.Sequential()\n",
    "model4.add(enb6)\n",
    "model4.add(tf.keras.layers.Flatten())\n",
    "model4.add(tf.keras.layers.Dense(units=512, activation='relu'))\n",
    "model4.add(tf.keras.layers.Dense(units=256, activation='relu'))\n",
    "model4.add(tf.keras.layers.Dense(units=num_classes, activation='softmax'))\n",
    "# Optimization params\n",
    "# -------------------\n",
    "\n",
    "# Loss\n",
    "loss = tf.keras.losses.CategoricalCrossentropy()\n",
    "\n",
    "# learning rate\n",
    "lr = 1e-4\n",
    "optimizer = tf.keras.optimizers.Adam(learning_rate=lr)\n",
    "# -------------------\n",
    "\n",
    "# Validation metrics\n",
    "# ------------------\n",
    "\n",
    "metrics = ['accuracy']\n",
    "# ------------------\n",
    "model4.compile(optimizer=optimizer, loss=loss, metrics=metrics)"
   ]
  },
  {
   "cell_type": "code",
   "execution_count": 14,
   "metadata": {
    "colab": {
     "base_uri": "https://localhost:8080/"
    },
    "executionInfo": {
     "elapsed": 66901,
     "status": "ok",
     "timestamp": 1606059418182,
     "user": {
      "displayName": "lucacolombo97",
      "photoUrl": "https://lh3.googleusercontent.com/a-/AOh14Giuvo0vTrhmbXIyb80LZ7oqS82QoAhiyiRwZQKi=s64",
      "userId": "05787806710317186015"
     },
     "user_tz": -60
    },
    "id": "FglvnPy9rO6s",
    "outputId": "ca4f55f9-b596-47ef-cb8b-1b1a1929421b"
   },
   "outputs": [
    {
     "data": {
      "text/plain": [
       "<tensorflow.python.training.tracking.util.CheckpointLoadStatus at 0x210112c15e0>"
      ]
     },
     "execution_count": 14,
     "metadata": {},
     "output_type": "execute_result"
    }
   ],
   "source": [
    "model1.load_weights(\"Classification_experiments/CNN_EffB7/best.ckpt\")"
   ]
  },
  {
   "cell_type": "code",
   "execution_count": 15,
   "metadata": {
    "colab": {
     "base_uri": "https://localhost:8080/"
    },
    "executionInfo": {
     "elapsed": 32439,
     "status": "ok",
     "timestamp": 1606059464905,
     "user": {
      "displayName": "lucacolombo97",
      "photoUrl": "https://lh3.googleusercontent.com/a-/AOh14Giuvo0vTrhmbXIyb80LZ7oqS82QoAhiyiRwZQKi=s64",
      "userId": "05787806710317186015"
     },
     "user_tz": -60
    },
    "id": "HM-BJTxoiyCj",
    "outputId": "70131c4c-ce4f-40fd-a0ef-27a1a1dc9724"
   },
   "outputs": [
    {
     "data": {
      "text/plain": [
       "<tensorflow.python.training.tracking.util.CheckpointLoadStatus at 0x21014020dc0>"
      ]
     },
     "execution_count": 15,
     "metadata": {},
     "output_type": "execute_result"
    }
   ],
   "source": [
    "model2.load_weights(\"Classification_experiments/CNN_InceptionResNet/best.ckpt\")"
   ]
  },
  {
   "cell_type": "code",
   "execution_count": 16,
   "metadata": {
    "colab": {
     "base_uri": "https://localhost:8080/"
    },
    "executionInfo": {
     "elapsed": 29481,
     "status": "ok",
     "timestamp": 1606059507708,
     "user": {
      "displayName": "lucacolombo97",
      "photoUrl": "https://lh3.googleusercontent.com/a-/AOh14Giuvo0vTrhmbXIyb80LZ7oqS82QoAhiyiRwZQKi=s64",
      "userId": "05787806710317186015"
     },
     "user_tz": -60
    },
    "id": "wryS4B9oniKF",
    "outputId": "ac51a6b5-ac68-424b-cd18-1406f2fb4e26"
   },
   "outputs": [
    {
     "data": {
      "text/plain": [
       "<tensorflow.python.training.tracking.util.CheckpointLoadStatus at 0x210142bad30>"
      ]
     },
     "execution_count": 16,
     "metadata": {},
     "output_type": "execute_result"
    }
   ],
   "source": [
    "model3.load_weights(\"Classification_experiments/CNN_Xception/best.ckpt\")"
   ]
  },
  {
   "cell_type": "code",
   "execution_count": 17,
   "metadata": {
    "colab": {
     "base_uri": "https://localhost:8080/"
    },
    "executionInfo": {
     "elapsed": 51942,
     "status": "ok",
     "timestamp": 1606059569992,
     "user": {
      "displayName": "lucacolombo97",
      "photoUrl": "https://lh3.googleusercontent.com/a-/AOh14Giuvo0vTrhmbXIyb80LZ7oqS82QoAhiyiRwZQKi=s64",
      "userId": "05787806710317186015"
     },
     "user_tz": -60
    },
    "id": "PmQHhrXgQ83x",
    "outputId": "d888bef8-9279-42f0-9961-169c2e7b7c9a"
   },
   "outputs": [
    {
     "data": {
      "text/plain": [
       "<tensorflow.python.training.tracking.util.CheckpointLoadStatus at 0x210162dde20>"
      ]
     },
     "execution_count": 17,
     "metadata": {},
     "output_type": "execute_result"
    }
   ],
   "source": [
    "model4.load_weights(\"Classification_experiments/CNN_EffB6/best.ckpt\")"
   ]
  },
  {
   "cell_type": "code",
   "execution_count": 18,
   "metadata": {
    "colab": {
     "base_uri": "https://localhost:8080/"
    },
    "executionInfo": {
     "elapsed": 73925,
     "status": "ok",
     "timestamp": 1606058979801,
     "user": {
      "displayName": "lucacolombo97",
      "photoUrl": "https://lh3.googleusercontent.com/a-/AOh14Giuvo0vTrhmbXIyb80LZ7oqS82QoAhiyiRwZQKi=s64",
      "userId": "05787806710317186015"
     },
     "user_tz": -60
    },
    "id": "yjb9DJdpVmgA",
    "outputId": "1f2e7b10-beb9-4a50-c247-41d693eecc63"
   },
   "outputs": [
    {
     "name": "stdout",
     "output_type": "stream",
     "text": [
      "Found 450 validated image filenames belonging to 1 classes.\n",
      "WARNING:tensorflow:From <ipython-input-18-21116f993d87>:39: Model.predict_generator (from tensorflow.python.keras.engine.training) is deprecated and will be removed in a future version.\n",
      "Instructions for updating:\n",
      "Please use Model.predict, which supports generators.\n",
      " 1/29 [>.............................] - ETA: 0sWARNING:tensorflow:Callbacks method `on_predict_batch_end` is slow compared to the batch time (batch time: 0.0160s vs `on_predict_batch_end` time: 0.2473s). Check your callbacks.\n",
      "29/29 [==============================] - 9s 317ms/step\n",
      " 1/29 [>.............................] - ETA: 0sWARNING:tensorflow:Callbacks method `on_predict_batch_end` is slow compared to the batch time (batch time: 0.0150s vs `on_predict_batch_end` time: 0.0987s). Check your callbacks.\n",
      "29/29 [==============================] - 7s 232ms/step\n",
      " 1/29 [>.............................] - ETA: 0sWARNING:tensorflow:Callbacks method `on_predict_batch_end` is slow compared to the batch time (batch time: 0.0050s vs `on_predict_batch_end` time: 0.0698s). Check your callbacks.\n",
      "29/29 [==============================] - 6s 223ms/step\n",
      " 1/29 [>.............................] - ETA: 0sWARNING:tensorflow:Callbacks method `on_predict_batch_end` is slow compared to the batch time (batch time: 0.0170s vs `on_predict_batch_end` time: 0.1795s). Check your callbacks.\n",
      "29/29 [==============================] - 7s 241ms/step\n"
     ]
    }
   ],
   "source": [
    "# Test\n",
    "import os\n",
    "from datetime import datetime\n",
    "exps_dir = 'Classification_experiments/Final'\n",
    "res_dir = os.path.join(exps_dir, 'Results')\n",
    "if not os.path.exists(res_dir):\n",
    "    os.makedirs(res_dir)\n",
    "def create_csv(results, results_dir=res_dir):\n",
    "\n",
    "    csv_fname = 'results_'\n",
    "    csv_fname += datetime.now().strftime('%b%d_%H-%M-%S') + '.csv'\n",
    "\n",
    "    with open(os.path.join(results_dir, csv_fname), 'w') as f:\n",
    "\n",
    "        f.write('Id,Category\\n')\n",
    "\n",
    "        for key, value in results.items():\n",
    "            f.write(key + ',' + str(value) + '\\n')\n",
    "\n",
    "\n",
    "test_dir = os.path.join(dataset_dir, 'test')\n",
    "\n",
    "images = [f for f in os.listdir(test_dir)]\n",
    "images = pd.DataFrame(images)\n",
    "images.rename(columns = {0:'filename'}, inplace = True)\n",
    "images[\"class\"] = 'test'\n",
    "\n",
    "test_gen = train_data_gen.flow_from_dataframe(images,\n",
    "                                              test_dir,\n",
    "                                              batch_size=bs,\n",
    "                                              target_size=(img_h, img_w),\n",
    "                                              class_mode='categorical',\n",
    "                                              shuffle=False,\n",
    "                                              seed=SEED)\n",
    "\n",
    "\n",
    "test_gen.reset()\n",
    "\n",
    "predictions1 = model1.predict_generator(test_gen, len(test_gen), verbose=1)\n",
    "predictions2 = model2.predict_generator(test_gen, len(test_gen), verbose=1)\n",
    "predictions3 = model3.predict_generator(test_gen, len(test_gen), verbose=1)\n",
    "predictions4 = model4.predict_generator(test_gen, len(test_gen), verbose=1)\n",
    "\n",
    "pred_avg = (predictions1 + predictions2 + predictions3 + predictions4) / 4\n",
    "\n",
    "results = {}\n",
    "images = test_gen.filenames\n",
    "i = 0\n",
    "\n",
    "for p in pred_avg:\n",
    "  prediction = np.argmax(p)\n",
    "  import ntpath\n",
    "  image_name = ntpath.basename(images[i])\n",
    "  results[image_name] = str(prediction)\n",
    "  i = i + 1\n",
    "\n",
    "create_csv(results)"
   ]
  },
  {
   "cell_type": "code",
   "execution_count": null,
   "metadata": {},
   "outputs": [],
   "source": []
  }
 ],
 "metadata": {
  "accelerator": "GPU",
  "colab": {
   "collapsed_sections": [],
   "name": "Homework1_TL.ipynb",
   "provenance": []
  },
  "kernelspec": {
   "display_name": "Python 3",
   "language": "python",
   "name": "python3"
  },
  "language_info": {
   "codemirror_mode": {
    "name": "ipython",
    "version": 3
   },
   "file_extension": ".py",
   "mimetype": "text/x-python",
   "name": "python",
   "nbconvert_exporter": "python",
   "pygments_lexer": "ipython3",
   "version": "3.8.3"
  }
 },
 "nbformat": 4,
 "nbformat_minor": 4
}
